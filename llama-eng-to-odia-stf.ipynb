{
 "cells": [
  {
   "cell_type": "code",
   "execution_count": null,
   "metadata": {
    "_cell_guid": "b1076dfc-b9ad-4769-8c92-a6c4dae69d19",
    "_uuid": "8f2839f25d086af736a60e9eeb907d3b93b6e0e5",
    "execution": {
     "iopub.execute_input": "2025-08-17T11:28:22.790121Z",
     "iopub.status.busy": "2025-08-17T11:28:22.789618Z",
     "iopub.status.idle": "2025-08-17T11:28:23.097937Z",
     "shell.execute_reply": "2025-08-17T11:28:23.097133Z",
     "shell.execute_reply.started": "2025-08-17T11:28:22.790094Z"
    },
    "id": "4Xe9ujw0KFA6",
    "trusted": true
   },
   "outputs": [],
   "source": [
    "\n",
    "import os\n",
    "os.environ[\"WANDB_DISABLED\"] = \"true\"\n",
    "\n",
    "import numpy as np # linear algebra\n",
    "import pandas as pd # data processing, CSV file I/O (e.g. pd.read_csv)\n"
   ]
  },
  {
   "cell_type": "code",
   "execution_count": 3,
   "metadata": {
    "colab": {
     "base_uri": "https://localhost:8080/"
    },
    "execution": {
     "iopub.execute_input": "2025-08-17T11:28:30.288915Z",
     "iopub.status.busy": "2025-08-17T11:28:30.288212Z",
     "iopub.status.idle": "2025-08-17T11:28:33.685156Z",
     "shell.execute_reply": "2025-08-17T11:28:33.684216Z",
     "shell.execute_reply.started": "2025-08-17T11:28:30.288888Z"
    },
    "id": "SQ5NjvjqKFA9",
    "outputId": "9955c1a8-1272-4907-e860-abe6f88c3285",
    "trusted": true
   },
   "outputs": [
    {
     "name": "stdout",
     "output_type": "stream",
     "text": [
      "Requirement already satisfied: transformers in /usr/local/lib/python3.11/dist-packages (4.55.2)\n",
      "Requirement already satisfied: datasets in /usr/local/lib/python3.11/dist-packages (3.6.0)\n",
      "Requirement already satisfied: peft in /usr/local/lib/python3.11/dist-packages (0.15.2)\n",
      "Requirement already satisfied: trl in /usr/local/lib/python3.11/dist-packages (0.21.0)\n",
      "Requirement already satisfied: filelock in /usr/local/lib/python3.11/dist-packages (from transformers) (3.18.0)\n",
      "Requirement already satisfied: huggingface-hub<1.0,>=0.34.0 in /usr/local/lib/python3.11/dist-packages (from transformers) (0.34.4)\n",
      "Requirement already satisfied: numpy>=1.17 in /usr/local/lib/python3.11/dist-packages (from transformers) (1.26.4)\n",
      "Requirement already satisfied: packaging>=20.0 in /usr/local/lib/python3.11/dist-packages (from transformers) (25.0)\n",
      "Requirement already satisfied: pyyaml>=5.1 in /usr/local/lib/python3.11/dist-packages (from transformers) (6.0.2)\n",
      "Requirement already satisfied: regex!=2019.12.17 in /usr/local/lib/python3.11/dist-packages (from transformers) (2024.11.6)\n",
      "Requirement already satisfied: requests in /usr/local/lib/python3.11/dist-packages (from transformers) (2.32.4)\n",
      "Requirement already satisfied: tokenizers<0.22,>=0.21 in /usr/local/lib/python3.11/dist-packages (from transformers) (0.21.2)\n",
      "Requirement already satisfied: safetensors>=0.4.3 in /usr/local/lib/python3.11/dist-packages (from transformers) (0.5.3)\n",
      "Requirement already satisfied: tqdm>=4.27 in /usr/local/lib/python3.11/dist-packages (from transformers) (4.67.1)\n",
      "Requirement already satisfied: pyarrow>=15.0.0 in /usr/local/lib/python3.11/dist-packages (from datasets) (19.0.1)\n",
      "Requirement already satisfied: dill<0.3.9,>=0.3.0 in /usr/local/lib/python3.11/dist-packages (from datasets) (0.3.8)\n",
      "Requirement already satisfied: pandas in /usr/local/lib/python3.11/dist-packages (from datasets) (2.2.3)\n",
      "Requirement already satisfied: xxhash in /usr/local/lib/python3.11/dist-packages (from datasets) (3.5.0)\n",
      "Requirement already satisfied: multiprocess<0.70.17 in /usr/local/lib/python3.11/dist-packages (from datasets) (0.70.16)\n",
      "Requirement already satisfied: fsspec<=2025.3.0,>=2023.1.0 in /usr/local/lib/python3.11/dist-packages (from fsspec[http]<=2025.3.0,>=2023.1.0->datasets) (2025.3.0)\n",
      "Requirement already satisfied: psutil in /usr/local/lib/python3.11/dist-packages (from peft) (7.0.0)\n",
      "Requirement already satisfied: torch>=1.13.0 in /usr/local/lib/python3.11/dist-packages (from peft) (2.6.0+cu124)\n",
      "Requirement already satisfied: accelerate>=0.21.0 in /usr/local/lib/python3.11/dist-packages (from peft) (1.8.1)\n",
      "Requirement already satisfied: aiohttp!=4.0.0a0,!=4.0.0a1 in /usr/local/lib/python3.11/dist-packages (from fsspec[http]<=2025.3.0,>=2023.1.0->datasets) (3.12.13)\n",
      "Requirement already satisfied: typing-extensions>=3.7.4.3 in /usr/local/lib/python3.11/dist-packages (from huggingface-hub<1.0,>=0.34.0->transformers) (4.14.0)\n",
      "Requirement already satisfied: hf-xet<2.0.0,>=1.1.3 in /usr/local/lib/python3.11/dist-packages (from huggingface-hub<1.0,>=0.34.0->transformers) (1.1.5)\n",
      "Requirement already satisfied: mkl_fft in /usr/local/lib/python3.11/dist-packages (from numpy>=1.17->transformers) (1.3.8)\n",
      "Requirement already satisfied: mkl_random in /usr/local/lib/python3.11/dist-packages (from numpy>=1.17->transformers) (1.2.4)\n",
      "Requirement already satisfied: mkl_umath in /usr/local/lib/python3.11/dist-packages (from numpy>=1.17->transformers) (0.1.1)\n",
      "Requirement already satisfied: mkl in /usr/local/lib/python3.11/dist-packages (from numpy>=1.17->transformers) (2025.2.0)\n",
      "Requirement already satisfied: tbb4py in /usr/local/lib/python3.11/dist-packages (from numpy>=1.17->transformers) (2022.2.0)\n",
      "Requirement already satisfied: mkl-service in /usr/local/lib/python3.11/dist-packages (from numpy>=1.17->transformers) (2.4.1)\n",
      "Requirement already satisfied: charset_normalizer<4,>=2 in /usr/local/lib/python3.11/dist-packages (from requests->transformers) (3.4.2)\n",
      "Requirement already satisfied: idna<4,>=2.5 in /usr/local/lib/python3.11/dist-packages (from requests->transformers) (3.10)\n",
      "Requirement already satisfied: urllib3<3,>=1.21.1 in /usr/local/lib/python3.11/dist-packages (from requests->transformers) (2.5.0)\n",
      "Requirement already satisfied: certifi>=2017.4.17 in /usr/local/lib/python3.11/dist-packages (from requests->transformers) (2025.6.15)\n",
      "Requirement already satisfied: networkx in /usr/local/lib/python3.11/dist-packages (from torch>=1.13.0->peft) (3.5)\n",
      "Requirement already satisfied: jinja2 in /usr/local/lib/python3.11/dist-packages (from torch>=1.13.0->peft) (3.1.6)\n",
      "Requirement already satisfied: nvidia-cuda-nvrtc-cu12==12.4.127 in /usr/local/lib/python3.11/dist-packages (from torch>=1.13.0->peft) (12.4.127)\n",
      "Requirement already satisfied: nvidia-cuda-runtime-cu12==12.4.127 in /usr/local/lib/python3.11/dist-packages (from torch>=1.13.0->peft) (12.4.127)\n",
      "Requirement already satisfied: nvidia-cuda-cupti-cu12==12.4.127 in /usr/local/lib/python3.11/dist-packages (from torch>=1.13.0->peft) (12.4.127)\n",
      "Requirement already satisfied: nvidia-cudnn-cu12==9.1.0.70 in /usr/local/lib/python3.11/dist-packages (from torch>=1.13.0->peft) (9.1.0.70)\n",
      "Requirement already satisfied: nvidia-cublas-cu12==12.4.5.8 in /usr/local/lib/python3.11/dist-packages (from torch>=1.13.0->peft) (12.4.5.8)\n",
      "Requirement already satisfied: nvidia-cufft-cu12==11.2.1.3 in /usr/local/lib/python3.11/dist-packages (from torch>=1.13.0->peft) (11.2.1.3)\n",
      "Requirement already satisfied: nvidia-curand-cu12==10.3.5.147 in /usr/local/lib/python3.11/dist-packages (from torch>=1.13.0->peft) (10.3.5.147)\n",
      "Requirement already satisfied: nvidia-cusolver-cu12==11.6.1.9 in /usr/local/lib/python3.11/dist-packages (from torch>=1.13.0->peft) (11.6.1.9)\n",
      "Requirement already satisfied: nvidia-cusparse-cu12==12.3.1.170 in /usr/local/lib/python3.11/dist-packages (from torch>=1.13.0->peft) (12.3.1.170)\n",
      "Requirement already satisfied: nvidia-cusparselt-cu12==0.6.2 in /usr/local/lib/python3.11/dist-packages (from torch>=1.13.0->peft) (0.6.2)\n",
      "Requirement already satisfied: nvidia-nccl-cu12==2.21.5 in /usr/local/lib/python3.11/dist-packages (from torch>=1.13.0->peft) (2.21.5)\n",
      "Requirement already satisfied: nvidia-nvtx-cu12==12.4.127 in /usr/local/lib/python3.11/dist-packages (from torch>=1.13.0->peft) (12.4.127)\n",
      "Requirement already satisfied: nvidia-nvjitlink-cu12==12.4.127 in /usr/local/lib/python3.11/dist-packages (from torch>=1.13.0->peft) (12.4.127)\n",
      "Requirement already satisfied: triton==3.2.0 in /usr/local/lib/python3.11/dist-packages (from torch>=1.13.0->peft) (3.2.0)\n",
      "Requirement already satisfied: sympy==1.13.1 in /usr/local/lib/python3.11/dist-packages (from torch>=1.13.0->peft) (1.13.1)\n",
      "Requirement already satisfied: mpmath<1.4,>=1.1.0 in /usr/local/lib/python3.11/dist-packages (from sympy==1.13.1->torch>=1.13.0->peft) (1.3.0)\n",
      "Requirement already satisfied: python-dateutil>=2.8.2 in /usr/local/lib/python3.11/dist-packages (from pandas->datasets) (2.9.0.post0)\n",
      "Requirement already satisfied: pytz>=2020.1 in /usr/local/lib/python3.11/dist-packages (from pandas->datasets) (2025.2)\n",
      "Requirement already satisfied: tzdata>=2022.7 in /usr/local/lib/python3.11/dist-packages (from pandas->datasets) (2025.2)\n",
      "Requirement already satisfied: aiohappyeyeballs>=2.5.0 in /usr/local/lib/python3.11/dist-packages (from aiohttp!=4.0.0a0,!=4.0.0a1->fsspec[http]<=2025.3.0,>=2023.1.0->datasets) (2.6.1)\n",
      "Requirement already satisfied: aiosignal>=1.1.2 in /usr/local/lib/python3.11/dist-packages (from aiohttp!=4.0.0a0,!=4.0.0a1->fsspec[http]<=2025.3.0,>=2023.1.0->datasets) (1.3.2)\n",
      "Requirement already satisfied: attrs>=17.3.0 in /usr/local/lib/python3.11/dist-packages (from aiohttp!=4.0.0a0,!=4.0.0a1->fsspec[http]<=2025.3.0,>=2023.1.0->datasets) (25.3.0)\n",
      "Requirement already satisfied: frozenlist>=1.1.1 in /usr/local/lib/python3.11/dist-packages (from aiohttp!=4.0.0a0,!=4.0.0a1->fsspec[http]<=2025.3.0,>=2023.1.0->datasets) (1.7.0)\n",
      "Requirement already satisfied: multidict<7.0,>=4.5 in /usr/local/lib/python3.11/dist-packages (from aiohttp!=4.0.0a0,!=4.0.0a1->fsspec[http]<=2025.3.0,>=2023.1.0->datasets) (6.6.3)\n",
      "Requirement already satisfied: propcache>=0.2.0 in /usr/local/lib/python3.11/dist-packages (from aiohttp!=4.0.0a0,!=4.0.0a1->fsspec[http]<=2025.3.0,>=2023.1.0->datasets) (0.3.2)\n",
      "Requirement already satisfied: yarl<2.0,>=1.17.0 in /usr/local/lib/python3.11/dist-packages (from aiohttp!=4.0.0a0,!=4.0.0a1->fsspec[http]<=2025.3.0,>=2023.1.0->datasets) (1.20.1)\n",
      "Requirement already satisfied: six>=1.5 in /usr/local/lib/python3.11/dist-packages (from python-dateutil>=2.8.2->pandas->datasets) (1.17.0)\n",
      "Requirement already satisfied: MarkupSafe>=2.0 in /usr/local/lib/python3.11/dist-packages (from jinja2->torch>=1.13.0->peft) (3.0.2)\n",
      "Requirement already satisfied: intel-openmp<2026,>=2024 in /usr/local/lib/python3.11/dist-packages (from mkl->numpy>=1.17->transformers) (2024.2.0)\n",
      "Requirement already satisfied: tbb==2022.* in /usr/local/lib/python3.11/dist-packages (from mkl->numpy>=1.17->transformers) (2022.2.0)\n",
      "Requirement already satisfied: tcmlib==1.* in /usr/local/lib/python3.11/dist-packages (from tbb==2022.*->mkl->numpy>=1.17->transformers) (1.4.0)\n",
      "Requirement already satisfied: intel-cmplr-lib-rt in /usr/local/lib/python3.11/dist-packages (from mkl_umath->numpy>=1.17->transformers) (2024.2.0)\n",
      "Requirement already satisfied: intel-cmplr-lib-ur==2024.2.0 in /usr/local/lib/python3.11/dist-packages (from intel-openmp<2026,>=2024->mkl->numpy>=1.17->transformers) (2024.2.0)\n"
     ]
    }
   ],
   "source": [
    "!pip install transformers datasets peft trl"
   ]
  },
  {
   "cell_type": "code",
   "execution_count": 4,
   "metadata": {
    "execution": {
     "iopub.execute_input": "2025-08-17T11:28:33.687216Z",
     "iopub.status.busy": "2025-08-17T11:28:33.686923Z",
     "iopub.status.idle": "2025-08-17T11:28:42.799542Z",
     "shell.execute_reply": "2025-08-17T11:28:42.798946Z",
     "shell.execute_reply.started": "2025-08-17T11:28:33.687190Z"
    },
    "id": "HQj7k_9TKFA9",
    "trusted": true
   },
   "outputs": [
    {
     "name": "stderr",
     "output_type": "stream",
     "text": [
      "2025-08-17 11:28:39.236563: E external/local_xla/xla/stream_executor/cuda/cuda_fft.cc:477] Unable to register cuFFT factory: Attempting to register factory for plugin cuFFT when one has already been registered\n",
      "WARNING: All log messages before absl::InitializeLog() is called are written to STDERR\n",
      "E0000 00:00:1755430119.258732     161 cuda_dnn.cc:8310] Unable to register cuDNN factory: Attempting to register factory for plugin cuDNN when one has already been registered\n",
      "E0000 00:00:1755430119.265623     161 cuda_blas.cc:1418] Unable to register cuBLAS factory: Attempting to register factory for plugin cuBLAS when one has already been registered\n",
      "Using the `WANDB_DISABLED` environment variable is deprecated and will be removed in v5. Use the --report_to flag to control the integrations used for logging result (for instance --report_to none).\n"
     ]
    }
   ],
   "source": [
    " from transformers import (\n",
    "     AutoModelForCausalLM,\n",
    "     AutoTokenizer,\n",
    "     BitsAndBytesConfig,\n",
    "     TrainingArguments,\n",
    "   \n",
    " )\n",
    " import torch\n",
    " from datasets import load_dataset\n",
    " from peft import LoraConfig, get_peft_model\n",
    " from trl import SFTTrainer"
   ]
  },
  {
   "cell_type": "code",
   "execution_count": 5,
   "metadata": {
    "execution": {
     "iopub.execute_input": "2025-08-17T11:28:42.800660Z",
     "iopub.status.busy": "2025-08-17T11:28:42.800183Z",
     "iopub.status.idle": "2025-08-17T11:28:42.804481Z",
     "shell.execute_reply": "2025-08-17T11:28:42.803690Z",
     "shell.execute_reply.started": "2025-08-17T11:28:42.800614Z"
    },
    "id": "8OSomAxIKFA-",
    "trusted": true
   },
   "outputs": [],
   "source": [
    "# pip install -U transformers\n"
   ]
  },
  {
   "cell_type": "code",
   "execution_count": null,
   "metadata": {
    "execution": {
     "iopub.execute_input": "2025-08-17T11:28:42.806724Z",
     "iopub.status.busy": "2025-08-17T11:28:42.806456Z",
     "iopub.status.idle": "2025-08-17T11:28:42.999340Z",
     "shell.execute_reply": "2025-08-17T11:28:42.998653Z",
     "shell.execute_reply.started": "2025-08-17T11:28:42.806703Z"
    },
    "id": "Cs52m_EKKFA-",
    "trusted": true
   },
   "outputs": [],
   "source": [
    "from huggingface_hub import login\n",
    "\n",
    "# paste your HF token here\n",
    "login(\"YOUR_KEY\")\n"
   ]
  },
  {
   "cell_type": "code",
   "execution_count": 7,
   "metadata": {
    "colab": {
     "base_uri": "https://localhost:8080/"
    },
    "execution": {
     "iopub.execute_input": "2025-08-17T11:28:43.000371Z",
     "iopub.status.busy": "2025-08-17T11:28:43.000110Z",
     "iopub.status.idle": "2025-08-17T11:28:47.675919Z",
     "shell.execute_reply": "2025-08-17T11:28:47.675261Z",
     "shell.execute_reply.started": "2025-08-17T11:28:43.000346Z"
    },
    "id": "KsOqHkDeKFA-",
    "outputId": "f73c62cb-4981-4ff8-8ac8-26b968f0ad59",
    "trusted": true
   },
   "outputs": [],
   "source": [
    " model_name = \"meta-llama/Llama-3.2-1B-Instruct\"\n",
    "\n",
    " # Tokenizer setup\n",
    " tokenizer = AutoTokenizer.from_pretrained(model_name, trust_remote_code=True)\n",
    " tokenizer.pad_token = tokenizer.eos_token\n",
    " tokenizer.padding_side = \"right\"\n",
    "\n",
    "\n",
    "model = AutoModelForCausalLM.from_pretrained(model_name,\n",
    "     device_map=\"auto\"\n",
    " )\n"
   ]
  },
  {
   "cell_type": "code",
   "execution_count": null,
   "metadata": {
    "execution": {
     "iopub.execute_input": "2025-08-17T11:28:50.923621Z",
     "iopub.status.busy": "2025-08-17T11:28:50.923115Z",
     "iopub.status.idle": "2025-08-17T11:28:52.326841Z",
     "shell.execute_reply": "2025-08-17T11:28:52.326181Z",
     "shell.execute_reply.started": "2025-08-17T11:28:50.923582Z"
    },
    "id": "sG-pujwCKFA-",
    "trusted": true
   },
   "outputs": [],
   "source": [
    " from peft import LoraConfig, get_peft_model\n",
    "\n",
    " lora_config = LoraConfig(\n",
    "     lora_alpha=1024,\n",
    "     lora_dropout=0.5,\n",
    "     r=1024,  #adjust rank accoring to your need\n",
    "     bias=\"none\",\n",
    "     task_type=\"CAUSAL_LM\",\n",
    " )\n",
    "\n",
    " model = get_peft_model(model, lora_config)"
   ]
  },
  {
   "cell_type": "code",
   "execution_count": 10,
   "metadata": {
    "execution": {
     "iopub.execute_input": "2025-08-17T11:28:52.328100Z",
     "iopub.status.busy": "2025-08-17T11:28:52.327801Z",
     "iopub.status.idle": "2025-08-17T11:28:53.188312Z",
     "shell.execute_reply": "2025-08-17T11:28:53.187550Z",
     "shell.execute_reply.started": "2025-08-17T11:28:52.328074Z"
    },
    "id": "YEwWyP9Qb_cM",
    "trusted": true
   },
   "outputs": [],
   "source": [
    "from datasets import load_dataset\n",
    "\n",
    "# Login using e.g. `huggingface-cli login` to access this dataset\n",
    "ds = load_dataset(\"Hemanth-thunder/english-to-odia-mt\")\n"
   ]
  },
  {
   "cell_type": "code",
   "execution_count": 11,
   "metadata": {
    "colab": {
     "base_uri": "https://localhost:8080/"
    },
    "execution": {
     "iopub.execute_input": "2025-08-17T11:28:53.190174Z",
     "iopub.status.busy": "2025-08-17T11:28:53.189955Z",
     "iopub.status.idle": "2025-08-17T11:28:53.196005Z",
     "shell.execute_reply": "2025-08-17T11:28:53.195251Z",
     "shell.execute_reply.started": "2025-08-17T11:28:53.190157Z"
    },
    "id": "6Y1Kcv1fc2pX",
    "outputId": "9ec69572-f24f-44b2-9785-34d65e7a07c8",
    "trusted": true
   },
   "outputs": [
    {
     "data": {
      "text/plain": [
       "DatasetDict({\n",
       "    train: Dataset({\n",
       "        features: ['en', 'or'],\n",
       "        num_rows: 69370\n",
       "    })\n",
       "})"
      ]
     },
     "execution_count": 11,
     "metadata": {},
     "output_type": "execute_result"
    }
   ],
   "source": [
    "ds"
   ]
  },
  {
   "cell_type": "code",
   "execution_count": 12,
   "metadata": {
    "colab": {
     "base_uri": "https://localhost:8080/"
    },
    "execution": {
     "iopub.execute_input": "2025-08-17T11:28:53.197361Z",
     "iopub.status.busy": "2025-08-17T11:28:53.196824Z",
     "iopub.status.idle": "2025-08-17T11:28:53.210471Z",
     "shell.execute_reply": "2025-08-17T11:28:53.209923Z",
     "shell.execute_reply.started": "2025-08-17T11:28:53.197336Z"
    },
    "id": "OoKycH-gKFA_",
    "outputId": "15b99ce1-bbe8-4fe5-d155-19402963a5c4",
    "trusted": true
   },
   "outputs": [
    {
     "name": "stdout",
     "output_type": "stream",
     "text": [
      "Dataset({\n",
      "    features: ['en', 'or'],\n",
      "    num_rows: 69370\n",
      "})\n"
     ]
    }
   ],
   "source": [
    "\n",
    "# Assuming your dataset is called `ds`\n",
    "columns_to_keep = [ \"en\", \"or\"]\n",
    "# columns_to_remove = [c for c in ds_train.column_names if c not in columns_to_keep]\n",
    "\n",
    "colums_to_remove=[c for c in ds['train'].column_names if c not in columns_to_keep]\n",
    "\n",
    "ds_train = ds['train'].remove_columns(colums_to_remove)\n",
    "\n",
    "print(ds_train)"
   ]
  },
  {
   "cell_type": "code",
   "execution_count": 13,
   "metadata": {
    "execution": {
     "iopub.execute_input": "2025-08-17T11:28:53.211425Z",
     "iopub.status.busy": "2025-08-17T11:28:53.211210Z",
     "iopub.status.idle": "2025-08-17T11:28:53.221449Z",
     "shell.execute_reply": "2025-08-17T11:28:53.220732Z",
     "shell.execute_reply.started": "2025-08-17T11:28:53.211410Z"
    },
    "id": "QhUGm761KFA_",
    "trusted": true
   },
   "outputs": [],
   "source": [
    "# new_ds=[]\n",
    "# for i in ds_train:\n",
    "#     print(i)\n",
    "#     print['']\n",
    "#     break"
   ]
  },
  {
   "cell_type": "code",
   "execution_count": 14,
   "metadata": {
    "colab": {
     "base_uri": "https://localhost:8080/"
    },
    "execution": {
     "iopub.execute_input": "2025-08-17T11:28:57.795225Z",
     "iopub.status.busy": "2025-08-17T11:28:57.794517Z",
     "iopub.status.idle": "2025-08-17T11:28:57.800440Z",
     "shell.execute_reply": "2025-08-17T11:28:57.799672Z",
     "shell.execute_reply.started": "2025-08-17T11:28:57.795199Z"
    },
    "id": "7_vbstxIKFA_",
    "outputId": "9c43cfbe-5ad7-4131-f1a7-28f7b4052311",
    "trusted": true
   },
   "outputs": [
    {
     "data": {
      "text/plain": [
       "{'en': 'That they may keep thee from the strange woman, from the stranger which flattereth with her words.',\n",
       " 'or': 'ତବେେ ତାହା ତୁମ୍ଭକୁ ଅନ୍ୟ ପର ସ୍ତ୍ରୀଠାରୁ ରକ୍ଷା କରିବ। ଏବଂ ବ୍ଯଭିଚାରିଣୀ ସ୍ତ୍ରୀଙ୍କଠାରୁ ମଧ୍ଯ ରକ୍ଷା କରିବ।'}"
      ]
     },
     "execution_count": 14,
     "metadata": {},
     "output_type": "execute_result"
    }
   ],
   "source": [
    "ds_train[0]"
   ]
  },
  {
   "cell_type": "code",
   "execution_count": 15,
   "metadata": {
    "colab": {
     "base_uri": "https://localhost:8080/"
    },
    "execution": {
     "iopub.execute_input": "2025-08-17T11:28:58.106352Z",
     "iopub.status.busy": "2025-08-17T11:28:58.106123Z",
     "iopub.status.idle": "2025-08-17T11:28:58.116051Z",
     "shell.execute_reply": "2025-08-17T11:28:58.115437Z",
     "shell.execute_reply.started": "2025-08-17T11:28:58.106335Z"
    },
    "id": "4BdppML4KFA_",
    "outputId": "a2f5a027-e4de-418c-91fd-25fc651f9df7",
    "trusted": true
   },
   "outputs": [
    {
     "name": "stdout",
     "output_type": "stream",
     "text": [
      "{'prompt': [{'content': 'That they may keep thee from the strange woman, from the stranger which flattereth with her words.', 'role': 'user'}], 'completion': [{'content': 'ତବେେ ତାହା ତୁମ୍ଭକୁ ଅନ୍ୟ ପର ସ୍ତ୍ରୀଠାରୁ ରକ୍ଷା କରିବ। ଏବଂ ବ୍ଯଭିଚାରିଣୀ ସ୍ତ୍ରୀଙ୍କଠାରୁ ମଧ୍ଯ ରକ୍ଷା କରିବ।', 'role': 'assistant'}]}\n"
     ]
    }
   ],
   "source": [
    "def preprocess_function(example):\n",
    "\n",
    "    return {\n",
    "        \"prompt\": [{\"role\": \"user\", \"content\": example[\"en\"]}],\n",
    "        \"completion\": [\n",
    "            {\"role\": \"assistant\", \"content\": example['or']}\n",
    "        ],\n",
    "    }\n",
    "\n",
    "dataset = ds_train.map(preprocess_function,remove_columns= ['en','or'])\n",
    "print(dataset[0])\n",
    "\n",
    "\n",
    "\n",
    "\n"
   ]
  },
  {
   "cell_type": "code",
   "execution_count": 16,
   "metadata": {
    "colab": {
     "base_uri": "https://localhost:8080/",
     "height": 35
    },
    "execution": {
     "iopub.execute_input": "2025-08-17T11:28:58.430976Z",
     "iopub.status.busy": "2025-08-17T11:28:58.430783Z",
     "iopub.status.idle": "2025-08-17T11:28:58.435919Z",
     "shell.execute_reply": "2025-08-17T11:28:58.435321Z",
     "shell.execute_reply.started": "2025-08-17T11:28:58.430962Z"
    },
    "id": "yxdQYr5IKFA_",
    "outputId": "f5da916c-9c63-475a-d7d1-072a5db49f2c",
    "trusted": true
   },
   "outputs": [
    {
     "data": {
      "text/plain": [
       "'ଆଜି ରାତ୍ରିର କଥା କିନ୍ତୁ ସ୍ଵତନ୍ତ୍ର ।'"
      ]
     },
     "execution_count": 16,
     "metadata": {},
     "output_type": "execute_result"
    }
   ],
   "source": [
    "dataset[4]['completion'][0]['content']\n"
   ]
  },
  {
   "cell_type": "code",
   "execution_count": 17,
   "metadata": {
    "colab": {
     "base_uri": "https://localhost:8080/",
     "height": 35
    },
    "execution": {
     "iopub.execute_input": "2025-08-17T11:29:02.146448Z",
     "iopub.status.busy": "2025-08-17T11:29:02.145853Z",
     "iopub.status.idle": "2025-08-17T11:29:02.152963Z",
     "shell.execute_reply": "2025-08-17T11:29:02.152253Z",
     "shell.execute_reply.started": "2025-08-17T11:29:02.146420Z"
    },
    "id": "YtlXY10gdNfv",
    "outputId": "e5e9cbc5-350c-496b-b62a-56ac24d0d898",
    "trusted": true
   },
   "outputs": [
    {
     "data": {
      "text/plain": [
       "'<|begin_of_text|>ଆଜି ରାତ୍ରିର କଥା କିନ୍ତୁ ସ୍ଵତନ୍ତ୍ର ।'"
      ]
     },
     "execution_count": 17,
     "metadata": {},
     "output_type": "execute_result"
    }
   ],
   "source": [
    "tokenizer.decode(tokenizer.encode(dataset[4]['completion'][0]['content']))"
   ]
  },
  {
   "cell_type": "code",
   "execution_count": 18,
   "metadata": {
    "execution": {
     "iopub.execute_input": "2025-08-17T11:29:02.547539Z",
     "iopub.status.busy": "2025-08-17T11:29:02.547300Z",
     "iopub.status.idle": "2025-08-17T11:29:03.862408Z",
     "shell.execute_reply": "2025-08-17T11:29:03.861818Z",
     "shell.execute_reply.started": "2025-08-17T11:29:02.547520Z"
    },
    "id": "lM2BMBO5KFBA",
    "trusted": true
   },
   "outputs": [
    {
     "name": "stderr",
     "output_type": "stream",
     "text": [
      "Using the `WANDB_DISABLED` environment variable is deprecated and will be removed in v5. Use the --report_to flag to control the integrations used for logging result (for instance --report_to none).\n"
     ]
    }
   ],
   "source": [
    " from transformers import Trainer, TrainingArguments\n",
    " from trl import SFTTrainer\n",
    "\n",
    " training_args = TrainingArguments(\n",
    "     output_dir=\"./results\",\n",
    "     eval_strategy=\"no\",\n",
    "     learning_rate=2e-5,\n",
    "     per_device_train_batch_size=2,\n",
    "     num_train_epochs=1,\n",
    "     # dataset_text_field=\"text\",\n",
    "     fp16=True,\n",
    "     save_total_limit=2,\n",
    "     logging_steps=1000,\n",
    "     save_steps=2500,\n",
    "\n",
    " )\n",
    "\n",
    " trainer = SFTTrainer(\n",
    "     model= model,\n",
    "     train_dataset=dataset,\n",
    "    #  peft_config= lora_config,\n",
    "     # dataset_text_field=\"text\",\n",
    "     # max_seq_length=512,  # Set max sequence length\n",
    "     # tokenizer=tokenizer,\n",
    "     args=training_args,\n",
    "     # packing=False,\n",
    " )"
   ]
  },
  {
   "cell_type": "code",
   "execution_count": 19,
   "metadata": {
    "execution": {
     "iopub.execute_input": "2025-08-17T11:29:10.211904Z",
     "iopub.status.busy": "2025-08-17T11:29:10.211588Z",
     "iopub.status.idle": "2025-08-17T11:29:10.215661Z",
     "shell.execute_reply": "2025-08-17T11:29:10.215048Z",
     "shell.execute_reply.started": "2025-08-17T11:29:10.211881Z"
    },
    "trusted": true
   },
   "outputs": [],
   "source": [
    "import os\n",
    "os.environ[\"WANDB_DISABLED\"] = \"true\"\n"
   ]
  },
  {
   "cell_type": "code",
   "execution_count": 20,
   "metadata": {
    "_kg_hide-input": true,
    "colab": {
     "base_uri": "https://localhost:8080/",
     "height": 795
    },
    "execution": {
     "iopub.execute_input": "2025-08-17T11:29:10.666489Z",
     "iopub.status.busy": "2025-08-17T11:29:10.665916Z",
     "iopub.status.idle": "2025-08-17T15:13:50.405401Z",
     "shell.execute_reply": "2025-08-17T15:13:50.404562Z",
     "shell.execute_reply.started": "2025-08-17T11:29:10.666469Z"
    },
    "id": "Q0ROtQL3KFBA",
    "outputId": "93122f08-ee28-420a-eb7d-2c3958bb8c29",
    "trusted": true
   },
   "outputs": [
    {
     "data": {
      "text/html": [
       "\n",
       "    <div>\n",
       "      \n",
       "      <progress value='34685' max='34685' style='width:300px; height:20px; vertical-align: middle;'></progress>\n",
       "      [34685/34685 3:44:38, Epoch 1/1]\n",
       "    </div>\n",
       "    <table border=\"1\" class=\"dataframe\">\n",
       "  <thead>\n",
       " <tr style=\"text-align: left;\">\n",
       "      <th>Step</th>\n",
       "      <th>Training Loss</th>\n",
       "    </tr>\n",
       "  </thead>\n",
       "  <tbody>\n",
       "    <tr>\n",
       "      <td>1000</td>\n",
       "      <td>0.644600</td>\n",
       "    </tr>\n",
       "    <tr>\n",
       "      <td>2000</td>\n",
       "      <td>0.531500</td>\n",
       "    </tr>\n",
       "    <tr>\n",
       "      <td>3000</td>\n",
       "      <td>0.494400</td>\n",
       "    </tr>\n",
       "    <tr>\n",
       "      <td>4000</td>\n",
       "      <td>0.471200</td>\n",
       "    </tr>\n",
       "    <tr>\n",
       "      <td>5000</td>\n",
       "      <td>0.464500</td>\n",
       "    </tr>\n",
       "    <tr>\n",
       "      <td>6000</td>\n",
       "      <td>0.449200</td>\n",
       "    </tr>\n",
       "    <tr>\n",
       "      <td>7000</td>\n",
       "      <td>0.434700</td>\n",
       "    </tr>\n",
       "    <tr>\n",
       "      <td>8000</td>\n",
       "      <td>0.428300</td>\n",
       "    </tr>\n",
       "    <tr>\n",
       "      <td>9000</td>\n",
       "      <td>0.428600</td>\n",
       "    </tr>\n",
       "    <tr>\n",
       "      <td>10000</td>\n",
       "      <td>0.419300</td>\n",
       "    </tr>\n",
       "    <tr>\n",
       "      <td>11000</td>\n",
       "      <td>0.405600</td>\n",
       "    </tr>\n",
       "    <tr>\n",
       "      <td>12000</td>\n",
       "      <td>0.407500</td>\n",
       "    </tr>\n",
       "    <tr>\n",
       "      <td>13000</td>\n",
       "      <td>0.404100</td>\n",
       "    </tr>\n",
       "    <tr>\n",
       "      <td>14000</td>\n",
       "      <td>0.399900</td>\n",
       "    </tr>\n",
       "    <tr>\n",
       "      <td>15000</td>\n",
       "      <td>0.393900</td>\n",
       "    </tr>\n",
       "    <tr>\n",
       "      <td>16000</td>\n",
       "      <td>0.388900</td>\n",
       "    </tr>\n",
       "    <tr>\n",
       "      <td>17000</td>\n",
       "      <td>0.385800</td>\n",
       "    </tr>\n",
       "    <tr>\n",
       "      <td>18000</td>\n",
       "      <td>0.383100</td>\n",
       "    </tr>\n",
       "    <tr>\n",
       "      <td>19000</td>\n",
       "      <td>0.388800</td>\n",
       "    </tr>\n",
       "    <tr>\n",
       "      <td>20000</td>\n",
       "      <td>0.382000</td>\n",
       "    </tr>\n",
       "    <tr>\n",
       "      <td>21000</td>\n",
       "      <td>0.383200</td>\n",
       "    </tr>\n",
       "    <tr>\n",
       "      <td>22000</td>\n",
       "      <td>0.370200</td>\n",
       "    </tr>\n",
       "    <tr>\n",
       "      <td>23000</td>\n",
       "      <td>0.373500</td>\n",
       "    </tr>\n",
       "    <tr>\n",
       "      <td>24000</td>\n",
       "      <td>0.369500</td>\n",
       "    </tr>\n",
       "    <tr>\n",
       "      <td>25000</td>\n",
       "      <td>0.362500</td>\n",
       "    </tr>\n",
       "    <tr>\n",
       "      <td>26000</td>\n",
       "      <td>0.361000</td>\n",
       "    </tr>\n",
       "    <tr>\n",
       "      <td>27000</td>\n",
       "      <td>0.364600</td>\n",
       "    </tr>\n",
       "    <tr>\n",
       "      <td>28000</td>\n",
       "      <td>0.367500</td>\n",
       "    </tr>\n",
       "    <tr>\n",
       "      <td>29000</td>\n",
       "      <td>0.356500</td>\n",
       "    </tr>\n",
       "    <tr>\n",
       "      <td>30000</td>\n",
       "      <td>0.358900</td>\n",
       "    </tr>\n",
       "    <tr>\n",
       "      <td>31000</td>\n",
       "      <td>0.360500</td>\n",
       "    </tr>\n",
       "    <tr>\n",
       "      <td>32000</td>\n",
       "      <td>0.358500</td>\n",
       "    </tr>\n",
       "    <tr>\n",
       "      <td>33000</td>\n",
       "      <td>0.357800</td>\n",
       "    </tr>\n",
       "    <tr>\n",
       "      <td>34000</td>\n",
       "      <td>0.362400</td>\n",
       "    </tr>\n",
       "  </tbody>\n",
       "</table><p>"
      ],
      "text/plain": [
       "<IPython.core.display.HTML object>"
      ]
     },
     "metadata": {},
     "output_type": "display_data"
    },
    {
     "name": "stderr",
     "output_type": "stream",
     "text": [
      "Using the `WANDB_DISABLED` environment variable is deprecated and will be removed in v5. Use the --report_to flag to control the integrations used for logging result (for instance --report_to none).\n",
      "Using the `WANDB_DISABLED` environment variable is deprecated and will be removed in v5. Use the --report_to flag to control the integrations used for logging result (for instance --report_to none).\n",
      "Using the `WANDB_DISABLED` environment variable is deprecated and will be removed in v5. Use the --report_to flag to control the integrations used for logging result (for instance --report_to none).\n",
      "Using the `WANDB_DISABLED` environment variable is deprecated and will be removed in v5. Use the --report_to flag to control the integrations used for logging result (for instance --report_to none).\n",
      "Using the `WANDB_DISABLED` environment variable is deprecated and will be removed in v5. Use the --report_to flag to control the integrations used for logging result (for instance --report_to none).\n",
      "Using the `WANDB_DISABLED` environment variable is deprecated and will be removed in v5. Use the --report_to flag to control the integrations used for logging result (for instance --report_to none).\n",
      "Using the `WANDB_DISABLED` environment variable is deprecated and will be removed in v5. Use the --report_to flag to control the integrations used for logging result (for instance --report_to none).\n",
      "Using the `WANDB_DISABLED` environment variable is deprecated and will be removed in v5. Use the --report_to flag to control the integrations used for logging result (for instance --report_to none).\n",
      "Using the `WANDB_DISABLED` environment variable is deprecated and will be removed in v5. Use the --report_to flag to control the integrations used for logging result (for instance --report_to none).\n",
      "Using the `WANDB_DISABLED` environment variable is deprecated and will be removed in v5. Use the --report_to flag to control the integrations used for logging result (for instance --report_to none).\n",
      "Using the `WANDB_DISABLED` environment variable is deprecated and will be removed in v5. Use the --report_to flag to control the integrations used for logging result (for instance --report_to none).\n",
      "Using the `WANDB_DISABLED` environment variable is deprecated and will be removed in v5. Use the --report_to flag to control the integrations used for logging result (for instance --report_to none).\n",
      "Using the `WANDB_DISABLED` environment variable is deprecated and will be removed in v5. Use the --report_to flag to control the integrations used for logging result (for instance --report_to none).\n",
      "Using the `WANDB_DISABLED` environment variable is deprecated and will be removed in v5. Use the --report_to flag to control the integrations used for logging result (for instance --report_to none).\n"
     ]
    },
    {
     "data": {
      "text/plain": [
       "TrainOutput(global_step=34685, training_loss=0.4051505801621682, metrics={'train_runtime': 13479.3378, 'train_samples_per_second': 5.146, 'train_steps_per_second': 2.573, 'total_flos': 1.916339537595433e+17, 'train_loss': 0.4051505801621682})"
      ]
     },
     "execution_count": 20,
     "metadata": {},
     "output_type": "execute_result"
    }
   ],
   "source": [
    "trainer.train()"
   ]
  },
  {
   "cell_type": "markdown",
   "metadata": {
    "id": "QvxqXPkrKFBA"
   },
   "source": [
    "## INFERENCE\n"
   ]
  },
  {
   "cell_type": "code",
   "execution_count": null,
   "metadata": {
    "id": "syi5fGsmKFBA",
    "trusted": true
   },
   "outputs": [],
   "source": [
    "from transformers import pipeline\n",
    "pipe = pipeline(\"text-generation\", model=model,tokenizer=tokenizer)\n",
    "prompt = [{'content': \"what are you doing ?\",'role': 'user'}]\n",
    "response = pipe(prompt)\n",
    "response[0][\"generated_text\"]"
   ]
  },
  {
   "cell_type": "code",
   "execution_count": null,
   "metadata": {
    "id": "t1Xjb4wCUtPB",
    "trusted": true
   },
   "outputs": [],
   "source": []
  }
 ],
 "metadata": {
  "accelerator": "GPU",
  "colab": {
   "gpuType": "T4",
   "provenance": []
  },
  "kaggle": {
   "accelerator": "nvidiaTeslaT4",
   "dataSources": [],
   "dockerImageVersionId": 31090,
   "isGpuEnabled": true,
   "isInternetEnabled": true,
   "language": "python",
   "sourceType": "notebook"
  },
  "kernelspec": {
   "display_name": "Python 3",
   "language": "python",
   "name": "python3"
  },
  "language_info": {
   "codemirror_mode": {
    "name": "ipython",
    "version": 3
   },
   "file_extension": ".py",
   "mimetype": "text/x-python",
   "name": "python",
   "nbconvert_exporter": "python",
   "pygments_lexer": "ipython3",
   "version": "3.11.13"
  }
 },
 "nbformat": 4,
 "nbformat_minor": 4
}
